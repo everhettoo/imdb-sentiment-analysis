{
 "cells": [
  {
   "metadata": {},
   "cell_type": "markdown",
   "source": [
    "# Introduction\n",
    "To build sentiment analysis based on dataset from: https://www.kaggle.com/datasets/lakshmi25npathi/imdb-dataset-of-50k-movie-reviews"
   ],
   "id": "86a8fa8025bc5468"
  },
  {
   "cell_type": "code",
   "id": "initial_id",
   "metadata": {
    "collapsed": true,
    "ExecuteTime": {
     "end_time": "2025-03-02T00:52:05.638080Z",
     "start_time": "2025-03-02T00:52:05.635779Z"
    }
   },
   "source": [
    "import pandas as pd\n",
    "from nltk.book import text1\n",
    "\n",
    "import utils.regex as rx\n",
    "import re"
   ],
   "outputs": [],
   "execution_count": 20
  },
  {
   "metadata": {},
   "cell_type": "markdown",
   "source": [
    "## EDA\n",
    "Let's explore the dataset to understand the features before preparing for building the sentiment prediction models."
   ],
   "id": "c463a0ab5856436e"
  },
  {
   "metadata": {
    "ExecuteTime": {
     "end_time": "2025-03-02T00:29:46.978198Z",
     "start_time": "2025-03-02T00:29:46.579607Z"
    }
   },
   "cell_type": "code",
   "source": [
    "# Let's glance at the dataset.\n",
    "data = pd.read_csv(\"data/imdb-movie-review-kaggle-laskhmipathi.csv\", encoding=\"ISO-8859-1\")\n",
    "data.head()"
   ],
   "id": "1cd2c911d0b1acaa",
   "outputs": [
    {
     "data": {
      "text/plain": [
       "                                              review sentiment\n",
       "0  One of the other reviewers has mentioned that ...  positive\n",
       "1  A wonderful little production. <br /><br />The...  positive\n",
       "2  I thought this was a wonderful way to spend ti...  positive\n",
       "3  Basically there's a family where a little boy ...  negative\n",
       "4  Petter Mattei's \"Love in the Time of Money\" is...  positive"
      ],
      "text/html": [
       "<div>\n",
       "<style scoped>\n",
       "    .dataframe tbody tr th:only-of-type {\n",
       "        vertical-align: middle;\n",
       "    }\n",
       "\n",
       "    .dataframe tbody tr th {\n",
       "        vertical-align: top;\n",
       "    }\n",
       "\n",
       "    .dataframe thead th {\n",
       "        text-align: right;\n",
       "    }\n",
       "</style>\n",
       "<table border=\"1\" class=\"dataframe\">\n",
       "  <thead>\n",
       "    <tr style=\"text-align: right;\">\n",
       "      <th></th>\n",
       "      <th>review</th>\n",
       "      <th>sentiment</th>\n",
       "    </tr>\n",
       "  </thead>\n",
       "  <tbody>\n",
       "    <tr>\n",
       "      <th>0</th>\n",
       "      <td>One of the other reviewers has mentioned that ...</td>\n",
       "      <td>positive</td>\n",
       "    </tr>\n",
       "    <tr>\n",
       "      <th>1</th>\n",
       "      <td>A wonderful little production. &lt;br /&gt;&lt;br /&gt;The...</td>\n",
       "      <td>positive</td>\n",
       "    </tr>\n",
       "    <tr>\n",
       "      <th>2</th>\n",
       "      <td>I thought this was a wonderful way to spend ti...</td>\n",
       "      <td>positive</td>\n",
       "    </tr>\n",
       "    <tr>\n",
       "      <th>3</th>\n",
       "      <td>Basically there's a family where a little boy ...</td>\n",
       "      <td>negative</td>\n",
       "    </tr>\n",
       "    <tr>\n",
       "      <th>4</th>\n",
       "      <td>Petter Mattei's \"Love in the Time of Money\" is...</td>\n",
       "      <td>positive</td>\n",
       "    </tr>\n",
       "  </tbody>\n",
       "</table>\n",
       "</div>"
      ]
     },
     "execution_count": 6,
     "metadata": {},
     "output_type": "execute_result"
    }
   ],
   "execution_count": 6
  },
  {
   "metadata": {
    "ExecuteTime": {
     "end_time": "2025-03-02T00:29:49.492998Z",
     "start_time": "2025-03-02T00:29:49.489683Z"
    }
   },
   "cell_type": "code",
   "source": [
    "# The dataset has the following rows and columns.\n",
    "data.shape"
   ],
   "id": "a636e028a8bf8a96",
   "outputs": [
    {
     "data": {
      "text/plain": [
       "(50000, 2)"
      ]
     },
     "execution_count": 7,
     "metadata": {},
     "output_type": "execute_result"
    }
   ],
   "execution_count": 7
  },
  {
   "metadata": {
    "ExecuteTime": {
     "end_time": "2025-03-02T00:30:18.315754Z",
     "start_time": "2025-03-02T00:30:18.300367Z"
    }
   },
   "cell_type": "code",
   "source": "data.info()",
   "id": "ec8e86f691caeba1",
   "outputs": [
    {
     "name": "stdout",
     "output_type": "stream",
     "text": [
      "<class 'pandas.core.frame.DataFrame'>\n",
      "RangeIndex: 50000 entries, 0 to 49999\n",
      "Data columns (total 2 columns):\n",
      " #   Column     Non-Null Count  Dtype \n",
      "---  ------     --------------  ----- \n",
      " 0   review     50000 non-null  object\n",
      " 1   sentiment  50000 non-null  object\n",
      "dtypes: object(2)\n",
      "memory usage: 781.4+ KB\n"
     ]
    }
   ],
   "execution_count": 8
  },
  {
   "metadata": {
    "ExecuteTime": {
     "end_time": "2025-03-02T00:33:09.713627Z",
     "start_time": "2025-03-02T00:33:09.705027Z"
    }
   },
   "cell_type": "code",
   "source": [
    "# Let's investigate if the dataset has missing values.\n",
    "data.isnull().sum()"
   ],
   "id": "addd3b799996d2a0",
   "outputs": [
    {
     "data": {
      "text/plain": [
       "review       0\n",
       "sentiment    0\n",
       "dtype: int64"
      ]
     },
     "execution_count": 11,
     "metadata": {},
     "output_type": "execute_result"
    }
   ],
   "execution_count": 11
  },
  {
   "metadata": {
    "ExecuteTime": {
     "end_time": "2025-03-02T00:33:56.208219Z",
     "start_time": "2025-03-02T00:33:56.204264Z"
    }
   },
   "cell_type": "code",
   "source": [
    "# Let's investigate the distribution sentiment class distribution.\n",
    "data['sentiment'].value_counts()"
   ],
   "id": "e190b5b1ec26808a",
   "outputs": [
    {
     "data": {
      "text/plain": [
       "sentiment\n",
       "positive    25000\n",
       "negative    25000\n",
       "Name: count, dtype: int64"
      ]
     },
     "execution_count": 12,
     "metadata": {},
     "output_type": "execute_result"
    }
   ],
   "execution_count": 12
  },
  {
   "metadata": {
    "ExecuteTime": {
     "end_time": "2025-03-02T00:35:49.314980Z",
     "start_time": "2025-03-02T00:35:46.899267Z"
    }
   },
   "cell_type": "code",
   "source": [
    "# Looks like the dataset has well-balanced classes for positive and negative sentiment (1:1).\n",
    "# Let's visualize it in a bar chart.\n",
    "data['sentiment'].value_counts().plot.bar()"
   ],
   "id": "433d6cb371dd57a0",
   "outputs": [
    {
     "data": {
      "text/plain": [
       "<Axes: xlabel='sentiment'>"
      ]
     },
     "execution_count": 14,
     "metadata": {},
     "output_type": "execute_result"
    },
    {
     "data": {
      "text/plain": [
       "<Figure size 640x480 with 1 Axes>"
      ],
      "image/png": "[encoded data removed]"
     },
     "metadata": {},
     "output_type": "display_data"
    }
   ],
   "execution_count": 14
  },
  {
   "metadata": {
    "ExecuteTime": {
     "end_time": "2025-03-02T01:14:10.232633Z",
     "start_time": "2025-03-02T01:14:07.487155Z"
    }
   },
   "cell_type": "code",
   "source": [
    "# Let's explore whether if the dataset contains hyperlinks.\n",
    "temp = []\n",
    "for index, row in data.iterrows():\n",
    "    review_text = row['review']\n",
    "    text_list = re.findall(rx.url_pattern, review_text)\n",
    "    if len(text_list) > 0:\n",
    "        temp.append(text_list)\n",
    "\n",
    "print(f'Dataset contains {len(temp)} number of hyperlinks.')\n",
    "tmp = pd.Series(temp)\n",
    "tmp.head()"
   ],
   "id": "2b3746f3482bdf5f",
   "outputs": [
    {
     "name": "stdout",
     "output_type": "stream",
     "text": [
      "Dataset contains 190 number of hyperlinks.\n"
     ]
    },
    {
     "data": {
      "text/plain": [
       "0    [(www.cei.org, , , , ), (www.cei.org/pdf/5539....\n",
       "1                   [(http://www.invocus.net, , , , )]\n",
       "2    [(http://blog.myspace.com/locoformovies, , , , )]\n",
       "3                   [(www.softfordigging.com, , , , )]\n",
       "4    [(www.petitiononline.com/19784444/petition.htm...\n",
       "dtype: object"
      ]
     },
     "execution_count": 53,
     "metadata": {},
     "output_type": "execute_result"
    }
   ],
   "execution_count": 53
  },
  {
   "metadata": {
    "ExecuteTime": {
     "end_time": "2025-03-02T01:07:01.450467Z",
     "start_time": "2025-03-02T01:07:01.447847Z"
    }
   },
   "cell_type": "code",
   "source": [
    "# Let's explore whether if the dataset contains emojis.\n",
    "# TODO:"
   ],
   "id": "ab03e6e35fb199cb",
   "outputs": [],
   "execution_count": 39
  },
  {
   "metadata": {},
   "cell_type": "markdown",
   "source": "",
   "id": "5f3d27a06ecd12e7"
  },
  {
   "metadata": {},
   "cell_type": "code",
   "outputs": [],
   "execution_count": null,
   "source": [
    "# Let's explore whether if the numbers and date.\n",
    "# TODO:"
   ],
   "id": "ee30029e90b9fc50"
  },
  {
   "metadata": {},
   "cell_type": "markdown",
   "source": [
    "## Preprocessing\n",
    "Looks, like the dataset has well-balanced classes for building the sentiment analysis.\\\n",
    "In this section, we will prepare the dataset for building the ML models."
   ],
   "id": "49c7b61ccd24f7bb"
  },
  {
   "metadata": {
    "ExecuteTime": {
     "end_time": "2025-03-02T00:38:57.249099Z",
     "start_time": "2025-03-02T00:38:57.243806Z"
    }
   },
   "cell_type": "code",
   "source": [
    "# Convert the sentiment classes from categorical to numeric representation.\n",
    "data[\"sentiment\"] = data[\"sentiment\"].map({\"positive\": 1, \"negative\": 0})"
   ],
   "id": "c7b7aa872c9f58e",
   "outputs": [],
   "execution_count": 15
  },
  {
   "metadata": {
    "ExecuteTime": {
     "end_time": "2025-03-02T00:39:28.855797Z",
     "start_time": "2025-03-02T00:39:28.852352Z"
    }
   },
   "cell_type": "code",
   "source": [
    "# Let's verify the data after conversion.\n",
    "data.head()"
   ],
   "id": "cfc951bf1aa735a7",
   "outputs": [
    {
     "data": {
      "text/plain": [
       "                                              review  sentiment\n",
       "0  One of the other reviewers has mentioned that ...          1\n",
       "1  A wonderful little production. <br /><br />The...          1\n",
       "2  I thought this was a wonderful way to spend ti...          1\n",
       "3  Basically there's a family where a little boy ...          0\n",
       "4  Petter Mattei's \"Love in the Time of Money\" is...          1"
      ],
      "text/html": [
       "<div>\n",
       "<style scoped>\n",
       "    .dataframe tbody tr th:only-of-type {\n",
       "        vertical-align: middle;\n",
       "    }\n",
       "\n",
       "    .dataframe tbody tr th {\n",
       "        vertical-align: top;\n",
       "    }\n",
       "\n",
       "    .dataframe thead th {\n",
       "        text-align: right;\n",
       "    }\n",
       "</style>\n",
       "<table border=\"1\" class=\"dataframe\">\n",
       "  <thead>\n",
       "    <tr style=\"text-align: right;\">\n",
       "      <th></th>\n",
       "      <th>review</th>\n",
       "      <th>sentiment</th>\n",
       "    </tr>\n",
       "  </thead>\n",
       "  <tbody>\n",
       "    <tr>\n",
       "      <th>0</th>\n",
       "      <td>One of the other reviewers has mentioned that ...</td>\n",
       "      <td>1</td>\n",
       "    </tr>\n",
       "    <tr>\n",
       "      <th>1</th>\n",
       "      <td>A wonderful little production. &lt;br /&gt;&lt;br /&gt;The...</td>\n",
       "      <td>1</td>\n",
       "    </tr>\n",
       "    <tr>\n",
       "      <th>2</th>\n",
       "      <td>I thought this was a wonderful way to spend ti...</td>\n",
       "      <td>1</td>\n",
       "    </tr>\n",
       "    <tr>\n",
       "      <th>3</th>\n",
       "      <td>Basically there's a family where a little boy ...</td>\n",
       "      <td>0</td>\n",
       "    </tr>\n",
       "    <tr>\n",
       "      <th>4</th>\n",
       "      <td>Petter Mattei's \"Love in the Time of Money\" is...</td>\n",
       "      <td>1</td>\n",
       "    </tr>\n",
       "  </tbody>\n",
       "</table>\n",
       "</div>"
      ]
     },
     "execution_count": 16,
     "metadata": {},
     "output_type": "execute_result"
    }
   ],
   "execution_count": 16
  },
  {
   "metadata": {},
   "cell_type": "code",
   "outputs": [],
   "execution_count": null,
   "source": [
    "# Let's remove and verify hyperlinks in the dataset.\n",
    "# TODO:\n",
    "\n",
    "\n"
   ],
   "id": "d3754da0bebf3a6e"
  },
  {
   "metadata": {},
   "cell_type": "code",
   "outputs": [],
   "execution_count": null,
   "source": [
    "# Let's process and verify emojis in the dataset.\n",
    "# TODO:"
   ],
   "id": "56b3b7a66b3ce073"
  },
  {
   "metadata": {},
   "cell_type": "code",
   "outputs": [],
   "execution_count": null,
   "source": [
    "# Let's remove and verify date in the dataset.\n",
    "# TODO:"
   ],
   "id": "69e620f7fd1f1ca5"
  },
  {
   "metadata": {},
   "cell_type": "code",
   "outputs": [],
   "execution_count": null,
   "source": [
    "# Let's remove and verify numbers in the dataset.\n",
    "# TODO:"
   ],
   "id": "ba0bcd52a2c4c9a7"
  }
 ],
 "metadata": {
  "kernelspec": {
   "display_name": "Python 3",
   "language": "python",
   "name": "python3"
  },
  "language_info": {
   "codemirror_mode": {
    "name": "ipython",
    "version": 2
   },
   "file_extension": ".py",
   "mimetype": "text/x-python",
   "name": "python",
   "nbconvert_exporter": "python",
   "pygments_lexer": "ipython2",
   "version": "2.7.6"
  }
 },
 "nbformat": 4,
 "nbformat_minor": 5
}
