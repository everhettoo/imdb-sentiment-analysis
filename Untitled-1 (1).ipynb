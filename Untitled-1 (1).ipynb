{
 "cells": [
  {
   "cell_type": "markdown",
   "metadata": {},
   "source": [
    "# Importing dataset"
   ]
  },
  {
   "cell_type": "code",
   "execution_count": 14,
   "metadata": {},
   "outputs": [
    {
     "data": {
      "text/html": [
       "<div>\n",
       "<style scoped>\n",
       "    .dataframe tbody tr th:only-of-type {\n",
       "        vertical-align: middle;\n",
       "    }\n",
       "\n",
       "    .dataframe tbody tr th {\n",
       "        vertical-align: top;\n",
       "    }\n",
       "\n",
       "    .dataframe thead th {\n",
       "        text-align: right;\n",
       "    }\n",
       "</style>\n",
       "<table border=\"1\" class=\"dataframe\">\n",
       "  <thead>\n",
       "    <tr style=\"text-align: right;\">\n",
       "      <th></th>\n",
       "      <th>review</th>\n",
       "      <th>sentiment</th>\n",
       "    </tr>\n",
       "  </thead>\n",
       "  <tbody>\n",
       "    <tr>\n",
       "      <th>0</th>\n",
       "      <td>One of the other reviewers has mentioned that ...</td>\n",
       "      <td>positive</td>\n",
       "    </tr>\n",
       "    <tr>\n",
       "      <th>1</th>\n",
       "      <td>A wonderful little production. &lt;br /&gt;&lt;br /&gt;The...</td>\n",
       "      <td>positive</td>\n",
       "    </tr>\n",
       "    <tr>\n",
       "      <th>2</th>\n",
       "      <td>I thought this was a wonderful way to spend ti...</td>\n",
       "      <td>positive</td>\n",
       "    </tr>\n",
       "    <tr>\n",
       "      <th>3</th>\n",
       "      <td>Basically there's a family where a little boy ...</td>\n",
       "      <td>negative</td>\n",
       "    </tr>\n",
       "    <tr>\n",
       "      <th>4</th>\n",
       "      <td>Petter Mattei's \"Love in the Time of Money\" is...</td>\n",
       "      <td>positive</td>\n",
       "    </tr>\n",
       "  </tbody>\n",
       "</table>\n",
       "</div>"
      ],
      "text/plain": [
       "                                              review sentiment\n",
       "0  One of the other reviewers has mentioned that ...  positive\n",
       "1  A wonderful little production. <br /><br />The...  positive\n",
       "2  I thought this was a wonderful way to spend ti...  positive\n",
       "3  Basically there's a family where a little boy ...  negative\n",
       "4  Petter Mattei's \"Love in the Time of Money\" is...  positive"
      ]
     },
     "execution_count": 14,
     "metadata": {},
     "output_type": "execute_result"
    }
   ],
   "source": [
    "import pandas as pd\n",
    "\n",
    "data = pd.read_csv(\"/Users/svr/Desktop/NLP/DATASET/IMDB Dataset.csv\", encoding = \"ISO-8859-1\")\n",
    "data.head()"
   ]
  },
  {
   "cell_type": "markdown",
   "metadata": {},
   "source": [
    "# Data understanding"
   ]
  },
  {
   "cell_type": "markdown",
   "metadata": {},
   "source": [
    "### Total column and row"
   ]
  },
  {
   "cell_type": "code",
   "execution_count": 3,
   "metadata": {},
   "outputs": [
    {
     "data": {
      "text/plain": [
       "(50000, 2)"
      ]
     },
     "execution_count": 3,
     "metadata": {},
     "output_type": "execute_result"
    }
   ],
   "source": [
    "data.shape"
   ]
  },
  {
   "cell_type": "markdown",
   "metadata": {},
   "source": [
    "### Data type and null values"
   ]
  },
  {
   "cell_type": "code",
   "execution_count": 4,
   "metadata": {},
   "outputs": [
    {
     "name": "stdout",
     "output_type": "stream",
     "text": [
      "<class 'pandas.core.frame.DataFrame'>\n",
      "RangeIndex: 50000 entries, 0 to 49999\n",
      "Data columns (total 2 columns):\n",
      " #   Column     Non-Null Count  Dtype \n",
      "---  ------     --------------  ----- \n",
      " 0   review     50000 non-null  object\n",
      " 1   sentiment  50000 non-null  object\n",
      "dtypes: object(2)\n",
      "memory usage: 781.4+ KB\n"
     ]
    }
   ],
   "source": [
    "data.info()"
   ]
  },
  {
   "cell_type": "markdown",
   "metadata": {},
   "source": [
    "### Missing data column wise"
   ]
  },
  {
   "cell_type": "code",
   "execution_count": 5,
   "metadata": {},
   "outputs": [
    {
     "data": {
      "text/plain": [
       "review       0\n",
       "sentiment    0\n",
       "dtype: int64"
      ]
     },
     "execution_count": 5,
     "metadata": {},
     "output_type": "execute_result"
    }
   ],
   "source": [
    "data.isnull().sum()"
   ]
  },
  {
   "cell_type": "markdown",
   "metadata": {},
   "source": [
    "### Spread of sentiment count"
   ]
  },
  {
   "cell_type": "code",
   "execution_count": 6,
   "metadata": {},
   "outputs": [
    {
     "data": {
      "text/plain": [
       "sentiment\n",
       "positive    25000\n",
       "negative    25000\n",
       "Name: count, dtype: int64"
      ]
     },
     "execution_count": 6,
     "metadata": {},
     "output_type": "execute_result"
    }
   ],
   "source": [
    "data['sentiment'].value_counts()"
   ]
  },
  {
   "cell_type": "markdown",
   "metadata": {},
   "source": [
    "### Spread of sentiment in bar chart"
   ]
  },
  {
   "cell_type": "code",
   "execution_count": 7,
   "metadata": {},
   "outputs": [
    {
     "data": {
      "text/plain": [
       "<Axes: xlabel='sentiment'>"
      ]
     },
     "execution_count": 7,
     "metadata": {},
     "output_type": "execute_result"
    },
    {
     "data": {
      "image/png": "[encoded data removed]",
      "text/plain": [
       "<Figure size 640x480 with 1 Axes>"
      ]
     },
     "metadata": {},
     "output_type": "display_data"
    }
   ],
   "source": [
    "data['sentiment'].value_counts().plot.bar()"
   ]
  },
  {
   "cell_type": "markdown",
   "metadata": {},
   "source": [
    "# Data Pre Processing"
   ]
  },
  {
   "cell_type": "markdown",
   "metadata": {},
   "source": [
    "### Convert sentiment to numeric values"
   ]
  },
  {
   "cell_type": "code",
   "execution_count": 15,
   "metadata": {},
   "outputs": [
    {
     "name": "stdout",
     "output_type": "stream",
     "text": [
      "                                              review  sentiment\n",
      "0  One of the other reviewers has mentioned that ...          1\n",
      "1  A wonderful little production. <br /><br />The...          1\n",
      "2  I thought this was a wonderful way to spend ti...          1\n",
      "3  Basically there's a family where a little boy ...          0\n",
      "4  Petter Mattei's \"Love in the Time of Money\" is...          1\n"
     ]
    }
   ],
   "source": [
    "# Replace the values in the 'Sentiment' column with numeric ones\n",
    "data[\"sentiment\"] = data[\"sentiment\"].map({\"positive\": 1, \"negative\": 0})\n",
    "\n",
    "# Display the updated DataFrame\n",
    "print(data.head())\n"
   ]
  },
  {
   "cell_type": "code",
   "execution_count": 17,
   "metadata": {},
   "outputs": [
    {
     "name": "stdout",
     "output_type": "stream",
     "text": [
      "Okay.csv\n"
     ]
    }
   ],
   "source": [
    "# Save to a new CSV file\n",
    "data.to_csv('/Users/svr/Desktop/NLP/DATASET/IMDB Dataset proccessed.csv', index=False)\n",
    "\n",
    "print(\"Okay.csv\")"
   ]
  },
  {
   "cell_type": "markdown",
   "metadata": {},
   "source": [
    "### Apply Contraction, stopwords, normalization, tokenisation, lemmatisation"
   ]
  },
  {
   "cell_type": "code",
   "execution_count": 21,
   "metadata": {},
   "outputs": [
    {
     "name": "stdout",
     "output_type": "stream",
     "text": [
      "\n",
      "Processed ABSA Dataset:\n",
      "                                                                                                                                                                                                                                                                                                                                                                                                                                                                                                                                                                                                                                                                                                                                                                                                                                                                                                                                                                  review  sentiment\n",
      "0  reviewer mention watch oz episode hook right exactly happen I br br thing strike I oz brutality unflinche scene violence set right word trust I faint hearted timid pull punch regard drug sex violence hardcore classic use word br br oz nickname oswald maximum security state penitentary focus mainly emerald city experimental section prison cell glass face inward privacy high agenda em city home aryan muslims gangstas latinos christians italian irish scuffle death stare dodgy dealing shady agreement far away br br I main appeal fact dare forget pretty picture paint mainstream audience forget charm forget romance oz mess episode I strike I nasty surreal I I ready I watch I develop taste oz accustom high level graphic violence violence injustice crook guard sell nickel inmate kill order away mannered middle class inmate turn prison bitch lack street skill prison experience watch oz comfortable uncomfortable view s touch dark          1\n",
      "1                                                                                                                                                                                                                                                                                                                                                                       wonderful little production br br filming technique unassuming old time bbc fashion comfort discomforte sense realism entire piece br br actor extremely choose michael sheen polari voice pat truly seamless editing guide reference williams diary entry worth watching terrificly write perform piece masterful production great master comedy life br br realism come home little thing fantasy guard use traditional dream technique remain solid disappear play knowledge sense particularly scene concern orton halliwell set particularly flat halliwell mural decorate surface terribly          1\n",
      "2                                                                                                                                                                                                                                                                                                                                                                                                                                           I think wonderful way spend time hot summer weekend sit air condition theater watch light hearted comedy plot simplistic dialogue witty character likable bread suspect serial killer disappoint realize match point risk addiction I think proof woody allen fully control style grow love br br I laugh woody comedy year dare I decade I impress scarlet johanson manage tone sexy image jump right average spirited young woman br br crown jewel career witty devil wear prada interesting superman great comedy friend          1\n",
      "3                                                                                                                                                                                                                                                                                                                                                                                                                                                                                                                                                               basically family little boy jake think zombie closet parent fight time br br movie slow soap opera suddenly jake decide rambo kill zombie br br ok film decide thriller drama drama movie watchable parent divorce argue like real life jake closet totally ruin film I expect boogeyman similar movie instead I watch drama meaningless thriller spot br br play parent descent dialog shot jake ignore          0\n",
      "4                                                                                                                                                           petter mattei love time money visually stunning film watch mr mattei offer vivid portrait human relation movie tell money power success people different situation encounter br br variation arthur schnitzler play theme director transfer action present time new york different character meet connect connect way person know previous point contact stylishly film sophisticated luxurious look people live world live habitat br br thing soul picture different stage loneliness inhabit big city exactly good place human relation find sincere fulfillment discern case people encounter br br acting good mr mattei direction steve buscemi rosario dawson carol kane michael imperioli adrian grenier rest talented cast character come alive br br wish mr mattei good luck await anxiously work          1\n"
     ]
    }
   ],
   "source": [
    "import re\n",
    "import spacy\n",
    "import pandas as pd\n",
    "\n",
    "# Load spaCy English model\n",
    "nlp = spacy.load(\"en_core_web_sm\")\n",
    "\n",
    "# Define spaCy's stop words\n",
    "stop_words = nlp.Defaults.stop_words\n",
    "\n",
    "# Contractions dictionary\n",
    "contractions = {\n",
    "    \"can't\": \"cannot\", \"won't\": \"will not\", \"i'm\": \"i am\", \"she's\": \"she is\",\n",
    "    \"he's\": \"he is\", \"they're\": \"they are\", \"we're\": \"we are\", \"i've\": \"i have\",\n",
    "    \"you're\": \"you are\", \"they've\": \"they have\", \"i'd\": \"i would\", \"we'd\": \"we would\",\n",
    "    \"couldn't\": \"could not\", \"wouldn't\": \"would not\", \"shouldn't\": \"should not\",\n",
    "    \"don't\": \"do not\", \"doen't\": \"does not\", \"haven't\": \"have not\", \"omg\": \"oh my god\",\n",
    "    \"aren't\": \"are not\", \"didn't\": \"did not\", \"doesn't\": \"does not\", \"hadn't\": \"had not\",\n",
    "    \"hasn't\": \"has not\", \"isn't\": \"is not\", \"it's\": \"it is\", \"let's\": \"let us\",\n",
    "    \"ma'am\": \"madam\", \"mightn't\": \"might not\", \"might've\": \"might have\",\n",
    "    \"mustn't\": \"must not\", \"must've\": \"must have\", \"needn't\": \"need not\",\n",
    "    \"o'clock\": \"of the clock\", \"shan't\": \"shall not\", \"she'd\": \"she would\",\n",
    "    \"she'll\": \"she will\", \"that's\": \"that is\", \"there's\": \"there is\",\n",
    "    \"there'd\": \"there would\", \"they'd\": \"they would\", \"they'll\": \"they will\",\n",
    "    \"wasn't\": \"was not\", \"weren't\": \"were not\", \"what'll\": \"what will\",\n",
    "    \"what're\": \"what are\", \"what's\": \"what is\", \"what've\": \"what have\",\n",
    "    \"where's\": \"where is\", \"who'd\": \"who would\", \"who'll\": \"who will\",\n",
    "    \"who're\": \"who are\", \"who's\": \"who is\", \"who've\": \"who have\",\n",
    "    \"why's\": \"why is\", \"would've\": \"would have\", \"you'd\": \"you would\",\n",
    "    \"you'll\": \"you will\", \"you've\": \"you have\", \"y'all\": \"you all\"\n",
    "}\n",
    "\n",
    "g # Emojis dictionary\n",
    "emojis_dict = {\n",
    "    ':)': 'smile', ':-)': 'smile', ';d': 'wink', ':-E': 'vampire', ':(': 'sad',\n",
    "    ':-(': 'sad', ':-<': 'sad', ':-P': 'raspberry', ':O': 'surprised',\n",
    "    ':-@': 'shocked', ':@': 'shocked', ':-$': 'confused', r':\\\\': 'annoyed',\n",
    "    ':#': 'mute', ':X': 'mute', ':^)': 'smile', ':-&': 'confused', '$_$': 'greedy',\n",
    "    '@@': 'eyeroll', ':-!': 'confused', ':-D': 'smile', ':-0': 'yell', 'O.O': 'confused',\n",
    "    '<(-_-)>': 'robot', 'd[-_-]b': 'dj', ':-)': 'sadsmile', ';)': 'wink',\n",
    "    'O:-)': 'angel', 'O*)': 'angel', '(:-D': 'gossip', '=^.^=': 'cat'\n",
    "}\n",
    "\n",
    "def preprocess_for_absa(text):\n",
    "    # 1️⃣ Text Cleaning\n",
    "    text = re.sub(r'\\bRT\\b', '', text)                          # Remove \"RT\" tokens\n",
    "    text = re.sub(r'https?:\\/\\/.*[\\r\\n]*', '', text)            # Remove hyperlinks\n",
    "    text = re.sub(r'[#,.\\-$!/()?%_√Ø¬ø¬Ω:&|;]', ' ', text)       # Replace special characters with a space\n",
    "    text = re.sub(r'@[A-Za-z0-9_]+', '', text)                  # Remove mentions\n",
    "    text = re.sub(r'\\d{1,4}[\\/\\-]\\d{1,2}[\\/\\-]\\d{1,4}', '', text) # Remove dates (e.g. 12/24/03)\n",
    "    text = re.sub(r'\\d+', '', text)                             # Remove standalone numbers\n",
    "\n",
    "    # 2️⃣ Contraction Expansion\n",
    "    for contraction, full_form in contractions.items():\n",
    "        text = re.sub(r'\\b' + re.escape(contraction) + r'\\b', full_form, text, flags=re.IGNORECASE)\n",
    "    \n",
    "    # 3️⃣ Emoji Replacement\n",
    "    for emoji, meaning in emojis_dict.items():\n",
    "        text = text.replace(emoji, f' {meaning} ')\n",
    "    \n",
    "    # 4️⃣ Normalisation: convert to lowercase and remove extra spaces\n",
    "    text = text.lower()\n",
    "    text = re.sub(r'\\s+', ' ', text).strip()\n",
    "    \n",
    "    # 5️⃣ Tokenisation, Lemmatisation, and Stopword Removal using spaCy\n",
    "    doc = nlp(text)\n",
    "    lemmatized_words = [token.lemma_ for token in doc]\n",
    "    filtered_words = [word for word in lemmatized_words if word not in stop_words and word.isalpha()]\n",
    "    \n",
    "    return \" \".join(filtered_words)\n",
    "\n",
    "# File path and encoding\n",
    "file_path = \"/Users/svr/Desktop/NLP/DATASET/IMDB Dataset proccessed.csv\"\n",
    "\n",
    "# Read the CSV with encoding specified\n",
    "data = pd.read_csv(file_path, encoding='ISO-8859-1')\n",
    "\n",
    "# Apply preprocessing to the \"review\" column\n",
    "data[\"review\"] = data[\"review\"].astype(str).apply(preprocess_for_absa)\n",
    "\n",
    "# Display the processed dataset\n",
    "print(\"\\nProcessed ABSA Dataset:\")\n",
    "print(data.head().to_string())\n",
    "\n",
    "# Save the processed dataset into CSV\n",
    "data.to_csv('/Users/svr/Desktop/NLP/DATASET/IMDB Dataset proccessed2.csv', index=False)\n"
   ]
  }
 ],
 "metadata": {
  "kernelspec": {
   "display_name": "base",
   "language": "python",
   "name": "python3"
  },
  "language_info": {
   "codemirror_mode": {
    "name": "ipython",
    "version": 3
   },
   "file_extension": ".py",
   "mimetype": "text/x-python",
   "name": "python",
   "nbconvert_exporter": "python",
   "pygments_lexer": "ipython3",
   "version": "3.12.4"
  }
 },
 "nbformat": 4,
 "nbformat_minor": 2
}
