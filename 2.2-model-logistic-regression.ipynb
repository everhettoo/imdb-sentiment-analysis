{
 "cells": [
  {
   "cell_type": "markdown",
   "metadata": {},
   "source": [
    "# Logistic Regression"
   ]
  },
  {
   "cell_type": "markdown",
   "metadata": {},
   "source": [
    "## Importing Processed Dataset"
   ]
  },
  {
   "cell_type": "code",
   "metadata": {},
   "source": [
    "import pandas as pd\n",
    "import pickle"
   ],
   "outputs": [],
   "execution_count": null
  },
  {
   "cell_type": "code",
   "metadata": {
    "ExecuteTime": {
     "end_time": "2025-03-19T13:17:05.036612Z",
     "start_time": "2025-03-19T13:17:04.819079Z"
    }
   },
   "source": [
    "# The final preprocessed files for building the models.\n",
    "processed_dataset_path = 'data/2-imdb-movie-review-processed.csv'\n",
    "\n",
    "# Save the transformed TF-IDF vectorized data into pickle format for loading into REST API.\n",
    "pickle_vectorizer_model_path = 'models/vectorized-model.pkl'\n",
    "\n",
    "# Save the trained model into pickle format for loading into REST API.\n",
    "pickle_ml_lr_model_path = 'models/lr-ml-model.pkl'\n",
    "\n",
    "data = pd.read_csv(processed_dataset_path)\n",
    "data.head()"
   ],
   "outputs": [
    {
     "data": {
      "text/plain": [
       "                                              review  sentiment\n",
       "0  reviewer mention watch oz episode hook right e...          1\n",
       "1  wonderful little production filming technique ...          1\n",
       "2  I think wonderful way spend time hot summer we...          1\n",
       "3  basically family little boy jake think zombie ...          0\n",
       "4  petter mattei love time money visually stunnin...          1"
      ],
      "text/html": [
       "<div>\n",
       "<style scoped>\n",
       "    .dataframe tbody tr th:only-of-type {\n",
       "        vertical-align: middle;\n",
       "    }\n",
       "\n",
       "    .dataframe tbody tr th {\n",
       "        vertical-align: top;\n",
       "    }\n",
       "\n",
       "    .dataframe thead th {\n",
       "        text-align: right;\n",
       "    }\n",
       "</style>\n",
       "<table border=\"1\" class=\"dataframe\">\n",
       "  <thead>\n",
       "    <tr style=\"text-align: right;\">\n",
       "      <th></th>\n",
       "      <th>review</th>\n",
       "      <th>sentiment</th>\n",
       "    </tr>\n",
       "  </thead>\n",
       "  <tbody>\n",
       "    <tr>\n",
       "      <th>0</th>\n",
       "      <td>reviewer mention watch oz episode hook right e...</td>\n",
       "      <td>1</td>\n",
       "    </tr>\n",
       "    <tr>\n",
       "      <th>1</th>\n",
       "      <td>wonderful little production filming technique ...</td>\n",
       "      <td>1</td>\n",
       "    </tr>\n",
       "    <tr>\n",
       "      <th>2</th>\n",
       "      <td>I think wonderful way spend time hot summer we...</td>\n",
       "      <td>1</td>\n",
       "    </tr>\n",
       "    <tr>\n",
       "      <th>3</th>\n",
       "      <td>basically family little boy jake think zombie ...</td>\n",
       "      <td>0</td>\n",
       "    </tr>\n",
       "    <tr>\n",
       "      <th>4</th>\n",
       "      <td>petter mattei love time money visually stunnin...</td>\n",
       "      <td>1</td>\n",
       "    </tr>\n",
       "  </tbody>\n",
       "</table>\n",
       "</div>"
      ]
     },
     "execution_count": 14,
     "metadata": {},
     "output_type": "execute_result"
    }
   ],
   "execution_count": 14
  },
  {
   "cell_type": "markdown",
   "metadata": {},
   "source": [
    "## Data Split"
   ]
  },
  {
   "cell_type": "code",
   "metadata": {
    "ExecuteTime": {
     "end_time": "2025-03-19T13:12:34.564953Z",
     "start_time": "2025-03-19T13:12:34.470295Z"
    }
   },
   "source": [
    "from collections import Counter\n",
    "from sklearn.model_selection import train_test_split, StratifiedKFold\n",
    "\n",
    "# Randomness to reproduce same splits for comparisons.\n",
    "random_state = 42\n",
    "\n",
    "# K-fold split for cv.\n",
    "kfold_n_split = 5\n",
    "\n",
    "# K-fold shuffle for cv.\n",
    "kfold_shuffle = True\n",
    "\n",
    "# A stratified K fold for cross-validation strategy - values are assigned from the evaluation helper module.\n",
    "# When random state is enabled, shuffle has to be enabled to. Shuffle is done before the deterministic split (sklearn doc).\n",
    "skfolds = StratifiedKFold(n_splits=kfold_n_split,\n",
    "                          shuffle=kfold_shuffle,\n",
    "                          random_state=random_state)\n",
    "\n",
    "# Define features (X) and target (y)\n",
    "X = data[\"review\"]  # Use processed text column\n",
    "y = data[\"sentiment\"]  # Target labels (0 or 1)\n",
    "\n",
    "train_test_split(X, y, test_size=0.20, stratify=y, random_state=random_state)\n",
    "\n",
    "# Split dataset into train and test sets (80% training, 20% testing)\n",
    "X_train, X_test, y_train, y_test = train_test_split(X, y, test_size=0.20, stratify=y, random_state=random_state)\n",
    "\n",
    "# Display the counter for '1' and '0' in y set before splitting.\n",
    "print('Class counter (stratified):')\n",
    "print(f'Entire-set  : {Counter(y)}.')\n",
    "print(f'Train-set   : {Counter(y_train)}.')\n",
    "print(f'Test-set    : {Counter(y_test)}.')\n",
    "\n",
    "std_y_data = [['Entire', Counter(y).get(0), Counter(y).get(1)],\n",
    "              ['Train', Counter(y_train).get(0), Counter(y_train).get(1)],\n",
    "              ['Test', Counter(y_test).get(0), Counter(y_test).get(1)]]\n",
    "\n",
    "pd.DataFrame(std_y_data, columns=['Set', '0', '1']).set_index('Set').plot.bar();"
   ],
   "outputs": [
    {
     "name": "stdout",
     "output_type": "stream",
     "text": [
      "Class counter (stratified):\n",
      "Entire-set  : Counter({1: 25000, 0: 25000}).\n",
      "Train-set   : Counter({1: 20000, 0: 20000}).\n",
      "Test-set    : Counter({0: 5000, 1: 5000}).\n"
     ]
    },
    {
     "data": {
      "text/plain": [
       "<Figure size 640x480 with 1 Axes>"
      ],
      "image/png": "[encoded data removed]"
     },
     "metadata": {},
     "output_type": "display_data"
    }
   ],
   "execution_count": 6
  },
  {
   "cell_type": "markdown",
   "metadata": {},
   "source": [
    "# TF-IDF Vectorization (Feature Extraction)"
   ]
  },
  {
   "cell_type": "code",
   "metadata": {
    "ExecuteTime": {
     "end_time": "2025-03-19T13:12:49.998141Z",
     "start_time": "2025-03-19T13:12:41.585917Z"
    }
   },
   "source": [
    "from sklearn.feature_extraction.text import TfidfVectorizer\n",
    "\n",
    "# If not None, build a vocabulary that only consider the top max_features ordered by term frequency across the corpus. Otherwise, all features are used.\n",
    "# Limits the max words used for building the model.\n",
    "# max_features = 100000\n",
    "\n",
    "# TODO: Afif, please confirm and justify!\n",
    "# Initialize TF-IDF Vectorizer\n",
    "vectoriser = TfidfVectorizer(ngram_range=(1, 2), max_features=50000)\n",
    "#vectoriser = TfidfVectorizer(ngram_range=(1, 2))\n",
    "\n",
    "# Fit TF-IDF on cleaned training data\n",
    "vectoriser.fit(X_train)\n",
    "\n",
    "print('Vectoriser fitted.')\n",
    "print('No. of feature words:', len(vectoriser.get_feature_names_out()))"
   ],
   "outputs": [
    {
     "name": "stdout",
     "output_type": "stream",
     "text": [
      "Vectoriser fitted.\n",
      "No. of feature words: 50000\n"
     ]
    }
   ],
   "execution_count": 7
  },
  {
   "cell_type": "code",
   "metadata": {
    "ExecuteTime": {
     "end_time": "2025-03-19T13:12:56.072722Z",
     "start_time": "2025-03-19T13:12:51.619854Z"
    }
   },
   "source": [
    "# Apply transformation to convert text to TF-IDF vectors\n",
    "X_train = vectoriser.transform(X_train)\n",
    "X_test = vectoriser.transform(X_test)\n",
    "\n",
    "print('Data Transformed.')\n"
   ],
   "outputs": [
    {
     "name": "stdout",
     "output_type": "stream",
     "text": [
      "Data Transformed.\n"
     ]
    }
   ],
   "execution_count": 8
  },
  {
   "cell_type": "markdown",
   "metadata": {},
   "source": [
    "# Base Logistic Regression Model"
   ]
  },
  {
   "cell_type": "code",
   "metadata": {
    "ExecuteTime": {
     "end_time": "2025-03-19T13:13:00.680744Z",
     "start_time": "2025-03-19T13:12:59.591256Z"
    }
   },
   "source": [
    "from sklearn.linear_model import LogisticRegression\n",
    "from sklearn.metrics import accuracy_score, precision_score, recall_score, f1_score, classification_report\n",
    "\n",
    "# Initialize a base logistic regression model\n",
    "lr = LogisticRegression(solver='liblinear', n_jobs=-1)\n",
    "\n",
    "# Fit the model on the training data\n",
    "lr.fit(X_train, y_train)\n",
    "\n",
    "# Make predictions on the test set\n",
    "y_pred = lr.predict(X_test)\n",
    "\n",
    "# Calculate evaluation metrics\n",
    "accuracy = accuracy_score(y_test, y_pred)\n",
    "precision = precision_score(y_test, y_pred, average='weighted')\n",
    "recall = recall_score(y_test, y_pred, average='weighted')\n",
    "f1 = f1_score(y_test, y_pred, average='weighted')\n",
    "\n",
    "# Print the evaluation results\n",
    "print(f\"Accuracy: {accuracy:.4f}\")\n",
    "print(f\"Precision: {precision:.4f}\")\n",
    "print(f\"Recall: {recall:.4f}\")\n",
    "print(f\"F1-score: {f1:.4f}\")\n",
    "\n",
    "print(\"\\n🔹 Classification Report:\")\n",
    "print(classification_report(y_test, y_pred))\n"
   ],
   "outputs": [
    {
     "name": "stderr",
     "output_type": "stream",
     "text": [
      "/Users/everhett/Projects/python-ws/imdb-sentiment-analysis/venv/lib/python3.9/site-packages/sklearn/linear_model/_logistic.py:1271: UserWarning: 'n_jobs' > 1 does not have any effect when 'solver' is set to 'liblinear'. Got 'n_jobs' = 14.\n",
      "  warnings.warn(\n"
     ]
    },
    {
     "name": "stdout",
     "output_type": "stream",
     "text": [
      "Accuracy: 0.8943\n",
      "Precision: 0.8947\n",
      "Recall: 0.8943\n",
      "F1-score: 0.8943\n",
      "\n",
      "🔹 Classification Report:\n",
      "              precision    recall  f1-score   support\n",
      "\n",
      "           0       0.91      0.88      0.89      5000\n",
      "           1       0.88      0.91      0.90      5000\n",
      "\n",
      "    accuracy                           0.89     10000\n",
      "   macro avg       0.89      0.89      0.89     10000\n",
      "weighted avg       0.89      0.89      0.89     10000\n",
      "\n"
     ]
    }
   ],
   "execution_count": 9
  },
  {
   "cell_type": "markdown",
   "metadata": {},
   "source": [
    "## Base Model Confusion Matrics"
   ]
  },
  {
   "cell_type": "code",
   "metadata": {
    "ExecuteTime": {
     "end_time": "2025-03-19T13:13:14.818290Z",
     "start_time": "2025-03-19T13:13:14.737936Z"
    }
   },
   "source": [
    "from sklearn.metrics import confusion_matrix\n",
    "import seaborn as sns\n",
    "import matplotlib.pyplot as plt\n",
    "\n",
    "# Compute confusion matrix\n",
    "conf_matrix = confusion_matrix(y_test, y_pred)\n",
    "\n",
    "print(\"\\n🔹 Confusion Matrix:\")\n",
    "print(conf_matrix)\n",
    "\n",
    "# Plot confusion matrix heatmap\n",
    "plt.figure(figsize=(6, 5))\n",
    "sns.heatmap(conf_matrix, annot=True, fmt='d', cmap=\"Blues\",\n",
    "            xticklabels=[\"Negative\", \"Positive\"],\n",
    "            yticklabels=[\"Negative\", \"Positive\"])\n",
    "plt.xlabel(\"Predicted Label\")\n",
    "plt.ylabel(\"Actual Label\")\n",
    "plt.title(\"Confusion Matrix - Logistic Regression\")\n",
    "plt.show()\n"
   ],
   "outputs": [
    {
     "name": "stdout",
     "output_type": "stream",
     "text": [
      "\n",
      "🔹 Confusion Matrix:\n",
      "[[4390  610]\n",
      " [ 447 4553]]\n"
     ]
    },
    {
     "data": {
      "text/plain": [
       "<Figure size 600x500 with 2 Axes>"
      ],
      "image/png": "[encoded data removed]"
     },
     "metadata": {},
     "output_type": "display_data"
    }
   ],
   "execution_count": 10
  },
  {
   "cell_type": "markdown",
   "metadata": {},
   "source": "# Logistic Regression Hyper Parameter Tuning with RandomSearchCV"
  },
  {
   "cell_type": "code",
   "metadata": {},
   "source": [
    "from sklearn.model_selection import RandomizedSearchCV\n",
    "from sklearn.linear_model import LogisticRegression\n",
    "from sklearn.metrics import accuracy_score, classification_report\n",
    "import numpy as np\n",
    "\n",
    "# Define parameter distribution for RandomizedSearchCV\n",
    "param_dist = {\n",
    "    'C': np.logspace(-3, 2, 50),         # Values from 0.001 to 100\n",
    "    'penalty': ['l1', 'l2'],              # Regularisation type\n",
    "    'solver': ['liblinear', 'saga'],      # Solvers that support l1 and l2 penalties\n",
    "    'class_weight': [None, 'balanced'],   # Handle class imbalance\n",
    "    'max_iter': [1000, 5000, 10000]        # Maximum iterations for convergence\n",
    "}\n",
    "\n",
    "# Set up RandomizedSearchCV with 5-fold cross-validation (using 20 iterations for speed)\n",
    "rand_search = RandomizedSearchCV(\n",
    "    LogisticRegression(),\n",
    "    param_distributions=param_dist,\n",
    "    n_iter=20,\n",
    "    scoring='accuracy',\n",
    "    cv=skfolds,  \n",
    "    n_jobs=-1,\n",
    "    random_state=random_state\n",
    ")\n",
    "\n",
    "# Fit RandomizedSearchCV on the training data (ensure X_train and y_train are defined)\n",
    "rand_search.fit(X_train, y_train)\n",
    "\n",
    "# Output the best hyperparameters found by RandomizedSearchCV\n",
    "print(\"Randomized Search Best Parameters:\")\n",
    "print(rand_search.best_params_)\n"
   ],
   "outputs": [],
   "execution_count": null
  },
  {
   "cell_type": "markdown",
   "metadata": {},
   "source": [
    "# Fine-tunes the best parameters found in RandomizedSearchCV with GridSearchCV"
   ]
  },
  {
   "cell_type": "code",
   "metadata": {},
   "source": [
    "from sklearn.model_selection import GridSearchCV\n",
    "from sklearn.linear_model import LogisticRegression\n",
    "from sklearn.metrics import accuracy_score, precision_score, recall_score, f1_score, classification_report\n",
    "import numpy as np\n",
    "\n",
    "# Best parameters found from RandomizedSearchCV\n",
    "best_params_rand = {\n",
    "    'solver': 'saga',\n",
    "    'penalty': 'l2',\n",
    "    'max_iter': 1000,\n",
    "    'class_weight': 'balanced',\n",
    "    'C': 3.7275937203149416\n",
    "}\n",
    "\n",
    "# Define a refined parameter grid based on the best RandomizedSearchCV results\n",
    "param_grid = {\n",
    "    'C': np.linspace(best_params_rand['C'] * 0.8, best_params_rand['C'] * 1.2, 5),  # Narrower range around the best C\n",
    "    'penalty': [best_params_rand['penalty']],  # Keep the best penalty\n",
    "    'solver': [best_params_rand['solver']],  # Keep the best solver\n",
    "    'class_weight': [best_params_rand['class_weight']],  # Keep the best class_weight\n",
    "    'max_iter': [best_params_rand['max_iter'], best_params_rand['max_iter'] * 2]  # Test a slightly higher iteration count\n",
    "}\n",
    "\n",
    "# GridSearchCV with 5-fold cross-validation for fine-tuning\n",
    "grid_search = GridSearchCV(\n",
    "    LogisticRegression(),\n",
    "    param_grid=param_grid,\n",
    "    scoring='accuracy',\n",
    "    cv=skfolds,\n",
    "    n_jobs=-1,  # Use all available CPU cores\n",
    "    verbose=1  # Show progress\n",
    ")\n",
    "\n",
    "# Fit the model\n",
    "grid_search.fit(X_train, y_train)\n",
    "\n",
    "# Retrieve the best hyperparameters from GridSearchCV\n",
    "best_params_grid = grid_search.best_params_\n",
    "\n",
    "# Best model from GridSearchCV\n",
    "best_lr = grid_search.best_estimator_\n",
    "\n",
    "# Predictions\n",
    "y_pred_best = best_lr.predict(X_test)\n",
    "\n",
    "# Calculate evaluation metrics\n",
    "accuracy = accuracy_score(y_test, y_pred_best)\n",
    "precision = precision_score(y_test, y_pred_best, average='weighted')\n",
    "recall = recall_score(y_test, y_pred_best, average='weighted')\n",
    "f1 = f1_score(y_test, y_pred_best, average='weighted')\n",
    "\n",
    "# Print only the required outputs\n",
    "print(f\"Best Parameters: {best_params_grid}\")\n",
    "print(f\"Accuracy: {accuracy:.4f}\")\n",
    "print(f\"Precision: {precision:.4f}\")\n",
    "print(f\"Recall: {recall:.4f}\")\n",
    "print(f\"F1-score: {f1:.4f}\\n\")\n",
    "\n",
    "print(\"🔹 Classification Report:\")\n",
    "print(classification_report(y_test, y_pred_best))\n",
    "print(best_lr)"
   ],
   "outputs": [],
   "execution_count": null
  },
  {
   "cell_type": "markdown",
   "metadata": {},
   "source": [
    "# Confusion Matrics"
   ]
  },
  {
   "cell_type": "code",
   "metadata": {},
   "source": [
    "from sklearn.metrics import confusion_matrix\n",
    "import seaborn as sns\n",
    "import matplotlib.pyplot as plt\n",
    "import numpy as np\n",
    "\n",
    "# Predictions\n",
    "y_pred_best = best_lr.predict(X_test)\n",
    "\n",
    "# Compute confusion matrix\n",
    "cm = confusion_matrix(y_test, y_pred_best)\n",
    "\n",
    "# Define class labels\n",
    "class_labels = [\"Negative\", \"Positive\"]\n",
    "\n",
    "# Plot Confusion Matrix\n",
    "plt.figure(figsize=(6, 4))\n",
    "sns.heatmap(cm, annot=True, fmt=\"d\", cmap=\"Blues\", xticklabels=class_labels, yticklabels=class_labels)\n",
    "\n",
    "# Add Labels\n",
    "plt.xlabel(\"Predicted Label\")\n",
    "plt.ylabel(\"Actual Label\")\n",
    "plt.title(\"Confusion Matrix - Logistic Regression Classifier\")\n",
    "\n",
    "# Show the plot\n",
    "plt.show()"
   ],
   "outputs": [],
   "execution_count": null
  },
  {
   "cell_type": "markdown",
   "metadata": {},
   "source": [
    "# ROC Curve"
   ]
  },
  {
   "cell_type": "code",
   "metadata": {},
   "source": [
    "from sklearn.metrics import roc_curve, auc\n",
    "import matplotlib.pyplot as plt\n",
    "\n",
    "# Compute probabilities for both models\n",
    "y_prob_base = LogisticRegression().fit(X_train, y_train).predict_proba(X_test)[:, 1]  # Base model\n",
    "y_prob_tuned = best_lr.predict_proba(X_test)[:, 1]  # Tuned model\n",
    "\n",
    "# Compute ROC curve and AUC for both models\n",
    "fpr_base, tpr_base, _ = roc_curve(y_test, y_prob_base)\n",
    "roc_auc_base = auc(fpr_base, tpr_base)\n",
    "\n",
    "fpr_tuned, tpr_tuned, _ = roc_curve(y_test, y_prob_tuned)\n",
    "roc_auc_tuned = auc(fpr_tuned, tpr_tuned)\n",
    "\n",
    "# Plot ROC Curve\n",
    "plt.figure(figsize=(6, 4))\n",
    "plt.plot(fpr_base, tpr_base, linestyle='--', label=f\"Base LR (AUC = {roc_auc_base:.4f})\")\n",
    "plt.plot(fpr_tuned, tpr_tuned, label=f\"Tuned LR (AUC = {roc_auc_tuned:.4f})\", color=\"blue\")\n",
    "\n",
    "# Add labels and legend\n",
    "plt.xlabel(\"False Positive Rate\")\n",
    "plt.ylabel(\"True Positive Rate\")\n",
    "plt.title(\"ROC Curve - Base vs. Tuned Logistic Regression\")\n",
    "plt.legend(loc=\"lower right\")\n",
    "\n",
    "# Show the plot\n",
    "plt.show()"
   ],
   "outputs": [],
   "execution_count": null
  },
  {
   "cell_type": "markdown",
   "metadata": {},
   "source": [
    "# Save Best Model into Pickle"
   ]
  },
  {
   "cell_type": "code",
   "metadata": {
    "ExecuteTime": {
     "end_time": "2025-03-19T13:17:42.022615Z",
     "start_time": "2025-03-19T13:17:42.019757Z"
    }
   },
   "source": [
    "# Save the model into pickle file.\n",
    "pickle.dump(lr, open(pickle_ml_lr_model_path, 'wb'))\n",
    "# pickle.dump(best_lr, open(pickle_ml_model_path, 'wb'))"
   ],
   "outputs": [],
   "execution_count": 16
  },
  {
   "cell_type": "code",
   "metadata": {},
   "source": [
    "# Load the model to verification.\n",
    "loaded_lr = pickle.load(open(pickle_ml_lr_model_path, 'rb'))\n",
    "result = loaded_lr.score(X_test, y_test)\n",
    "print(result)"
   ],
   "outputs": [],
   "execution_count": null
  }
 ],
 "metadata": {
  "kernelspec": {
   "display_name": "base",
   "language": "python",
   "name": "python3"
  },
  "language_info": {
   "codemirror_mode": {
    "name": "ipython",
    "version": 3
   },
   "file_extension": ".py",
   "mimetype": "text/x-python",
   "name": "python",
   "nbconvert_exporter": "python",
   "pygments_lexer": "ipython3",
   "version": "3.12.4"
  }
 },
 "nbformat": 4,
 "nbformat_minor": 2
}
